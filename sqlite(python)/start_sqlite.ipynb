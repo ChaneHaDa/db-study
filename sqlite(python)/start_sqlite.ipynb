{
 "cells": [
  {
   "cell_type": "code",
   "execution_count": 2,
   "id": "74bdbe9a-8157-4fab-8c69-e64d5dac2ccf",
   "metadata": {},
   "outputs": [],
   "source": [
    "import sqlite3"
   ]
  },
  {
   "cell_type": "code",
   "execution_count": 3,
   "id": "636dcc9a-4dbb-4f2f-9d01-d23db8cb46ce",
   "metadata": {},
   "outputs": [],
   "source": [
    "# sql 연결을 추가: inmemory 방식\n",
    "con = sqlite3.connect(':memory:')"
   ]
  },
  {
   "cell_type": "code",
   "execution_count": 4,
   "id": "c61fda61-2146-46ec-bf71-61f74a532ec4",
   "metadata": {},
   "outputs": [],
   "source": [
    "# 결과를 가져오는 객체\n",
    "cur = con.cursor()"
   ]
  },
  {
   "cell_type": "markdown",
   "id": "13f1b166-223d-42e0-a358-f49803ab84ef",
   "metadata": {},
   "source": [
    "### SQL 실행 방법\n",
    "\n",
    "1. **단일 SQL 실행 (`cur.execute()`)**\n",
    "\n",
    "   - `cur.execute()`는 하나의 SQL문을 실행하는 방법입니다. 주로 SELECT, INSERT, UPDATE, DELETE 등 단일 쿼리를 실행할 때 사용됩니다.\n",
    "   \n",
    "   ```python\n",
    "   cur.execute(\"SELECT * FROM table_name\")\n",
    "   ```\n",
    "\n",
    "2. **여러 SQL 실행 (`cur.executemany()`)**\n",
    "\n",
    "   - `cur.executemany()`는 동일한 SQL문을 여러 번 실행할 때 사용됩니다. 보통 파라미터를 다르게 하여 여러 번의 쿼리를 실행할 때 유용합니다.\n",
    "   \n",
    "   ```python\n",
    "   query = \"INSERT INTO table_name (column1, column2) VALUES (?, ?)\"\n",
    "   data = [(value1, value2), (value3, value4), (value5, value6)]\n",
    "   cur.executemany(query, data)\n",
    "   ```\n",
    "\n",
    "3. **여러 SQL문 실행 (`cur.executescript()`)**\n",
    "\n",
    "   - `cur.executescript()`는 여러 개의 SQL문을 한 번에 실행할 때 사용됩니다. SQL문이 하나씩 구분된 문자열로 입력되며, 모든 쿼리가 연속해서 실행됩니다.\n",
    "   \n",
    "   ```python\n",
    "   cur.executescript(\"\"\"\n",
    "       CREATE TABLE table_name (id INTEGER, name TEXT);\n",
    "       INSERT INTO table_name (id, name) VALUES (1, 'John');\n",
    "       INSERT INTO table_name (id, name) VALUES (2, 'Alice');\n",
    "   \"\"\")\n",
    "   ```"
   ]
  },
  {
   "cell_type": "code",
   "execution_count": 5,
   "id": "95108021-418e-430b-af8a-251d8df746e9",
   "metadata": {},
   "outputs": [
    {
     "data": {
      "text/plain": [
       "<sqlite3.Cursor at 0xff448a4398c0>"
      ]
     },
     "execution_count": 5,
     "metadata": {},
     "output_type": "execute_result"
    }
   ],
   "source": [
    "cur.execute(\"\"\"\n",
    "    CREATE TABLE TEST (\n",
    "        ID INTEGER,\n",
    "        NAME CHAR(1)\n",
    "    )\n",
    "\"\"\")"
   ]
  },
  {
   "cell_type": "code",
   "execution_count": 6,
   "id": "8df3ea7c-8e25-4671-8698-2c7b26d21e97",
   "metadata": {},
   "outputs": [
    {
     "data": {
      "text/plain": [
       "<sqlite3.Cursor at 0xff448a4398c0>"
      ]
     },
     "execution_count": 6,
     "metadata": {},
     "output_type": "execute_result"
    }
   ],
   "source": [
    "cur.execute(\"INSERT INTO TEST (ID, NAME) VALUES (?, ?);\", (1, 'A'))\n",
    "cur.execute(\"INSERT INTO TEST (ID, NAME) VALUES (2, 'ABC');\")"
   ]
  },
  {
   "cell_type": "markdown",
   "id": "097c99b6-44cd-4a3b-b49d-5889c0775a15",
   "metadata": {},
   "source": [
    "### SQL 결과 가져오기 방법\n",
    "\n",
    "1. **1행 가져오기 (`cur.fetchone()`)**\n",
    "\n",
    "   - `cur.fetchone()`은 쿼리 실행 후, 결과에서 첫 번째 행만 가져옵니다. 한 번 호출할 때마다 한 행씩 반환됩니다.\n",
    "   \n",
    "   ```python\n",
    "   result = cur.fetchone()\n",
    "   print(result)  # 첫 번째 행을 출력\n",
    "   ```\n",
    "\n",
    "2. **N행 가져오기 (`cur.fetchmany(n)`)**\n",
    "\n",
    "   - `cur.fetchmany(n)`은 쿼리 실행 후, 결과에서 지정한 수만큼의 행을 가져옵니다. `n`에 원하는 행의 수를 입력하여 한 번에 여러 행을 가져올 수 있습니다.\n",
    "   \n",
    "   ```python\n",
    "   results = cur.fetchmany(3)\n",
    "   print(results)  # 첫 3행을 출력\n",
    "   ```\n",
    "\n",
    "3. **전체 행 가져오기 (`cur.fetchall()`)**\n",
    "\n",
    "   - `cur.fetchall()`은 쿼리 실행 후, 결과에서 모든 행을 가져옵니다. 쿼리 결과가 많을 때는 메모리 사용에 유의해야 합니다.\n",
    "   \n",
    "   ```python\n",
    "   results = cur.fetchall()\n",
    "   print(results)  # 모든 행을 출력\n",
    "   ```"
   ]
  },
  {
   "cell_type": "code",
   "execution_count": 8,
   "id": "96da5e16-2b28-43c9-9ba6-ed4842179893",
   "metadata": {},
   "outputs": [
    {
     "data": {
      "text/plain": [
       "[(1, 'A'), (2, 'ABC')]"
      ]
     },
     "execution_count": 8,
     "metadata": {},
     "output_type": "execute_result"
    }
   ],
   "source": [
    "cur.execute(\"SELECT * FROM TEST;\")\n",
    "cur.fetchall()"
   ]
  },
  {
   "cell_type": "code",
   "execution_count": 9,
   "id": "80a4f3ea-3c0a-4197-9b59-bf4b765a86c0",
   "metadata": {},
   "outputs": [],
   "source": [
    "# 접속 해제\n",
    "con.close()"
   ]
  },
  {
   "cell_type": "markdown",
   "id": "efb4dfc8-aae6-436b-bf4e-5702626f2f30",
   "metadata": {},
   "source": [
    "### db 파일을 생성해서 접속"
   ]
  },
  {
   "cell_type": "code",
   "execution_count": 26,
   "id": "f457b00b-9b33-4043-bc5c-801fce8ec8fd",
   "metadata": {},
   "outputs": [],
   "source": [
    "# 실제로 파일을 만들어서 연결: 확장자 상관없음!\n",
    "con = sqlite3.connect('coffee.db')\n",
    "cur = con.cursor()"
   ]
  },
  {
   "cell_type": "code",
   "execution_count": 27,
   "id": "b55fc2b1-7f64-4240-9bc9-c6e2691f528e",
   "metadata": {
    "scrolled": true
   },
   "outputs": [
    {
     "data": {
      "text/plain": [
       "<sqlite3.Cursor at 0xff448a1d0fc0>"
      ]
     },
     "execution_count": 27,
     "metadata": {},
     "output_type": "execute_result"
    }
   ],
   "source": [
    "cur.execute(\"\"\"\n",
    "    CREATE TABLE CITY (\n",
    "        CNO INTEGER PRIMARY KEY,\n",
    "        NAME TEXT NOT NULL\n",
    "    );\n",
    "\"\"\")"
   ]
  },
  {
   "cell_type": "markdown",
   "id": "2eba1f69-965a-4cc5-b8a5-c1eedff1adeb",
   "metadata": {},
   "source": [
    "cur.execute(\"INSERT INTO CITY (CNO, NAME) VALUES (1, '성북구');\")\n",
    "cur.execute(\"INSERT INTO CITY (NAME) VALUES ('강북구');\")\n",
    "cur.execute(\"INSERT INTO CITY VALUES (NULL, '동대문구');\")"
   ]
  },
  {
   "cell_type": "code",
   "execution_count": 28,
   "id": "264b0e24-b973-481a-aa5e-37282bf8daea",
   "metadata": {},
   "outputs": [],
   "source": [
    "# 예외발생 case1: not null \n",
    "# cur.execute(\"INSERT INTO CITY VALUES (NULL, NULL);\")"
   ]
  },
  {
   "cell_type": "code",
   "execution_count": 29,
   "id": "ecae69ac-8fd8-4fd1-90cd-ae22ca1848a1",
   "metadata": {},
   "outputs": [],
   "source": [
    "# 예외발생 case2: primary key \n",
    "# cur.execute(\"INSERT INTO CITY VALUES (3, '노원구');\")"
   ]
  },
  {
   "cell_type": "code",
   "execution_count": 30,
   "id": "76481075-8274-43bc-9aa9-ea3c3903c141",
   "metadata": {},
   "outputs": [
    {
     "data": {
      "text/plain": [
       "[]"
      ]
     },
     "execution_count": 30,
     "metadata": {},
     "output_type": "execute_result"
    }
   ],
   "source": [
    "cur.execute(\"SELECT * FROM CITY;\")\n",
    "cur.fetchall()"
   ]
  },
  {
   "cell_type": "code",
   "execution_count": 31,
   "id": "f99ff64f-18dc-4b7a-abc6-c118136a3a0e",
   "metadata": {},
   "outputs": [
    {
     "data": {
      "text/plain": [
       "0"
      ]
     },
     "execution_count": 31,
     "metadata": {},
     "output_type": "execute_result"
    }
   ],
   "source": [
    "# PrimaryKey => auto increment, unique, not null\n",
    "# 마지막으로 삽입된 행의 ID 가져오기\n",
    "cur.lastrowid"
   ]
  },
  {
   "cell_type": "markdown",
   "id": "91dc3af3-e101-4d82-a45b-06b2d7df6751",
   "metadata": {},
   "source": [
    "### 데이터베이스 트랜잭션과 커밋\n",
    "\n",
    "1. **DB에 데이터가 안 들어가 있는 이유**  \n",
    "   - 데이터베이스에 데이터가 반영되지 않는 이유는 `commit`을 하지 않았기 때문입니다. 데이터베이스는 기본적으로 트랜잭션을 사용하여 데이터의 일관성과 안정성을 보장합니다. \n",
    "   \n",
    "2. **DBMS와 DB**  \n",
    "   - **DBMS(Database Management System)**: 데이터베이스를 관리하는 시스템으로, 사용자와 데이터베이스 간의 상호작용을 처리합니다.\n",
    "   - **DB(Database)**: 실제 데이터를 저장하는 장소입니다. DBMS는 데이터베이스를 관리하고 쿼리 등을 실행하여 데이터를 변경합니다.\n",
    "\n",
    "3. **트랜잭션(Transaction)**  \n",
    "   - 트랜잭션은 데이터베이스의 상태를 변화시키는 작업을 수행하는 단위입니다. \n",
    "   - 트랜잭션은 데이터의 일관성과 무결성을 보장하기 위해 ACID 속성을 따릅니다.\n",
    "   \n",
    "   **ACID 속성**  \n",
    "   - **Atomicity (원자성)**: 트랜잭션 내의 작업은 모두 성공하거나 모두 실패해야 한다는 원칙입니다.\n",
    "   - **Consistency (일관성)**: 트랜잭션 실행 전후에 데이터가 일관된 상태여야 한다는 원칙입니다.\n",
    "   - **Isolation (격리성)**: 다른 트랜잭션의 영향을 받지 않도록 보장해야 한다는 원칙입니다.\n",
    "   - **Durability (내구성)**: 트랜잭션이 성공적으로 커밋된 후에는 그 결과가 영구적으로 저장되어야 한다는 원칙입니다.\n",
    "\n",
    "4. **데이터 추가/수정(갱신)**  \n",
    "   - 데이터베이스에 데이터 추가나 수정이 이루어질 때는 트랜잭션을 통해 변화가 발생합니다. 이 변화는 커밋(commit)을 통해 데이터베이스에 반영됩니다.\n",
    "\n",
    "5. **Commit**  \n",
    "   - `commit`은 트랜잭션 내에서 이루어진 모든 변경사항을 데이터베이스에 실제로 저장하는 작업입니다. `commit`을 하지 않으면, 트랜잭션은 롤백되어 데이터베이스에 변화가 반영되지 않습니다.\n"
   ]
  },
  {
   "cell_type": "code",
   "execution_count": 32,
   "id": "fa0df9dd-48c6-4b78-9a31-b75fcfa6b4ab",
   "metadata": {},
   "outputs": [],
   "source": [
    "# 커밋하면 db에 반영\n",
    "con.commit()"
   ]
  },
  {
   "cell_type": "markdown",
   "id": "d1112829-d1ef-46f9-b9aa-8b9c206ba22d",
   "metadata": {},
   "source": [
    "### 파라미터 바인딩 방법\n",
    "\n",
    "1. **`?qmark`**\n",
    "\n",
    "   - `?qmark`는 SQL 쿼리에서 파라미터를 바인딩할 때 사용하는 자리 표시자입니다. 쿼리문에 `?`를 사용하여 파라미터 값을 동적으로 전달할 수 있습니다.\n",
    "   - 이 방법은 SQL 인젝션을 방지하는 데 효과적입니다.\n",
    "\n",
    "   **사용 예시**:\n",
    "   ```python\n",
    "   cur.execute(\"SELECT * FROM users WHERE username = ?\", (username,))\n",
    "   ```\n",
    "\n",
    "   - 위의 코드에서 `username`은 동적으로 전달되는 값이며, `?` 자리 표시자가 그 자리에 해당 값이 바인딩됩니다.\n",
    "\n",
    "2. **`:named`**\n",
    "\n",
    "   - `:named`는 SQL 쿼리에서 명명된 파라미터를 바인딩할 때 사용하는 방법입니다. 파라미터 이름을 `:parameter_name` 형식으로 지정하고, 실행 시 해당 이름에 값을 바인딩합니다.\n",
    "   - 이 방식은 특히 여러 개의 파라미터를 사용할 때 가독성이 좋고, 코드가 더 명확하게 됩니다.\n",
    "\n",
    "   **사용 예시**:\n",
    "   ```python\n",
    "   cur.execute(\"SELECT * FROM users WHERE username = :username AND age = :age\", {'username': username, 'age': age})\n",
    "   ```\n",
    "\n",
    "   - 위의 코드에서 `:username`과 `:age`는 명명된 파라미터로, 각각 `username`과 `age` 값에 대응되는 파라미터가 바인딩됩니다."
   ]
  },
  {
   "cell_type": "code",
   "execution_count": 33,
   "id": "44997040-7439-41e5-a9b0-7d60a3cc5e1b",
   "metadata": {},
   "outputs": [
    {
     "data": {
      "text/plain": [
       "<sqlite3.Cursor at 0xff448a1d0fc0>"
      ]
     },
     "execution_count": 33,
     "metadata": {},
     "output_type": "execute_result"
    }
   ],
   "source": [
    "cur.execute(\"INSERT INTO CITY VALUES (NULL, ?);\", ('중구',))"
   ]
  },
  {
   "cell_type": "code",
   "execution_count": 34,
   "id": "f27343e0-7d7d-4c0d-b337-42133aba4d1e",
   "metadata": {},
   "outputs": [
    {
     "data": {
      "text/plain": [
       "[(1, '중구')]"
      ]
     },
     "execution_count": 34,
     "metadata": {},
     "output_type": "execute_result"
    }
   ],
   "source": [
    "cur.execute(\"SELECT * FROM CITY;\")\n",
    "cur.fetchall()"
   ]
  },
  {
   "cell_type": "code",
   "execution_count": 35,
   "id": "e94352ac-193c-439c-9292-17f119ca1ccf",
   "metadata": {},
   "outputs": [
    {
     "data": {
      "text/plain": [
       "<sqlite3.Cursor at 0xff448a1d0fc0>"
      ]
     },
     "execution_count": 35,
     "metadata": {},
     "output_type": "execute_result"
    }
   ],
   "source": [
    "cur.execute(\"INSERT INTO CITY VALUES (NULL, :name);\", {'name':'중랑구'})"
   ]
  },
  {
   "cell_type": "code",
   "execution_count": 36,
   "id": "4129e4ea-565c-46b2-9073-1f28cfaf8f13",
   "metadata": {},
   "outputs": [
    {
     "data": {
      "text/plain": [
       "<sqlite3.Cursor at 0xff448a1d0fc0>"
      ]
     },
     "execution_count": 36,
     "metadata": {},
     "output_type": "execute_result"
    }
   ],
   "source": [
    "# 리스트를 이용한 데이터 추가\n",
    "cur.executemany('''\n",
    "INSERT INTO CITY (NAME) VALUES (?)\n",
    "''', (['노원구'], ['강남구'], ['서초구']))"
   ]
  },
  {
   "cell_type": "code",
   "execution_count": 38,
   "id": "eedf31f8-2d00-42e1-b907-fca5dd6f5eed",
   "metadata": {},
   "outputs": [
    {
     "data": {
      "text/plain": [
       "<sqlite3.Cursor at 0xff448a1d0fc0>"
      ]
     },
     "execution_count": 38,
     "metadata": {},
     "output_type": "execute_result"
    }
   ],
   "source": [
    "# 딕셔너리를 이용한 데이터 추가\n",
    "cities = [\n",
    "    {\"name\": \"Seoul\"},\n",
    "    {\"name\": \"New York\"},\n",
    "    {\"name\": \"London\"},\n",
    "    {\"name\": \"Paris\"},\n",
    "    {\"name\": \"Tokyo\"}\n",
    "]\n",
    "\n",
    "cur.executemany('''\n",
    "    INSERT INTO CITY (NAME) VALUES (:name)\n",
    "''', cities)"
   ]
  },
  {
   "cell_type": "markdown",
   "id": "59fee3c7-7722-45f9-981b-e9827e137e43",
   "metadata": {},
   "source": [
    "### executescript 사용"
   ]
  },
  {
   "cell_type": "code",
   "execution_count": 39,
   "id": "1e26f1aa-e8a4-45be-b97a-7462cae7dcfc",
   "metadata": {},
   "outputs": [
    {
     "data": {
      "text/plain": [
       "<sqlite3.Cursor at 0xff448a1d0fc0>"
      ]
     },
     "execution_count": 39,
     "metadata": {},
     "output_type": "execute_result"
    }
   ],
   "source": [
    "cur.executescript('''\n",
    "    DROP TABLE IF EXISTS SUPPLIER;\n",
    "    CREATE TABLE SUPPLIER(\n",
    "      SNO INTEGER PRIMARY KEY,\n",
    "      NAME TEXT,\n",
    "      CNO INTEGER NOT NULL\n",
    "    );\n",
    "\n",
    "    DROP TABLE IF EXISTS PART;\n",
    "    CREATE TABLE PART(\n",
    "        PNO INTEGER PRIMARY KEY,\n",
    "        NAME CHAR(1)\n",
    "    );\n",
    "''')"
   ]
  },
  {
   "cell_type": "code",
   "execution_count": 40,
   "id": "ba489fa5-3fb8-4280-ad39-b2a9d4d12a22",
   "metadata": {},
   "outputs": [
    {
     "data": {
      "text/plain": [
       "<sqlite3.Cursor at 0xff448a1d0fc0>"
      ]
     },
     "execution_count": 40,
     "metadata": {},
     "output_type": "execute_result"
    }
   ],
   "source": [
    "p = [{'n':'아메리카노'}, {'n':'카페라테'}, {'n':'에스프레소'}]\n",
    "cur.executemany('''\n",
    "    INSERT INTO PART (NAME) VALUES (:n)\n",
    "''', p)\n",
    "# sql문 1개를 4번 반복!"
   ]
  },
  {
   "cell_type": "code",
   "execution_count": 41,
   "id": "d8e1bc34-c7c5-438d-9450-92e41bc67ed7",
   "metadata": {},
   "outputs": [
    {
     "data": {
      "text/plain": [
       "[(1, '아메리카노'), (2, '카페라테'), (3, '에스프레소')]"
      ]
     },
     "execution_count": 41,
     "metadata": {},
     "output_type": "execute_result"
    }
   ],
   "source": [
    "cur.execute(\"SELECT * FROM PART;\")\n",
    "cur.fetchall()"
   ]
  },
  {
   "cell_type": "markdown",
   "id": "6f89023f-ab94-497f-a007-649fbee1f20f",
   "metadata": {},
   "source": [
    "### `cursor.execute()` 함수의 동작 과정\n",
    "\n",
    "`cursor.execute()` 함수는 SQL 쿼리를 실행하는 데 사용되며, 내부적으로 다음과 같은 과정을 거칩니다:\n",
    "\n",
    "1. **Python 파라미터 2개 넘김 (SQL, 변수)**  \n",
    "   - `cursor.execute()`는 첫 번째 파라미터로 SQL 쿼리문을 받고, 두 번째 파라미터로는 SQL에 사용할 변수 값들을 전달받습니다. SQL 문과 해당 변수는 파라미터로 제공되며, 이때 파라미터는 동적 값을 입력받아 실행됩니다.\n",
    "\n",
    "   **사용 예시**:\n",
    "   ```python\n",
    "   query = \"SELECT * FROM users WHERE username = ? AND age = ?\"\n",
    "   params = ('john_doe', 25)\n",
    "   cursor.execute(query, params)\n",
    "   ```\n",
    "\n",
    "2. **DBMS가 SQL 해석**  \n",
    "   - DBMS(Database Management System)는 전달받은 SQL 쿼리문을 해석하여 실행 계획을 세웁니다. SQL 쿼리가 올바른 문법을 따르고, 실행될 준비가 되었는지 확인하는 단계입니다.\n",
    "\n",
    "   - 이 과정에서 DBMS는 쿼리를 최적화하고, 쿼리 실행에 필요한 리소스를 준비합니다. \n",
    "\n",
    "3. **DB에서 SQL 적용**  \n",
    "   - 해석된 SQL 쿼리는 실제로 데이터베이스에 적용됩니다. DBMS는 쿼리 실행을 통해 데이터베이스를 수정하거나, 요청한 데이터를 반환합니다. 이때 SQL문에 포함된 파라미터들은 바인딩되어 쿼리 실행에 반영됩니다.\n",
    "\n",
    "   **예시:**\n",
    "   ```python\n",
    "   cursor.execute(\"UPDATE users SET age = ? WHERE username = ?\", (30, 'john_doe'))\n",
    "   ```\n",
    "\n",
    "   - 위 코드에서 `cursor.execute()`는 `UPDATE` SQL 쿼리를 실행하여 `username`이 `'john_doe'`인 사용자의 나이를 30으로 갱신합니다."
   ]
  },
  {
   "cell_type": "code",
   "execution_count": 43,
   "id": "c517336b-4f58-4b27-82f2-ed868de90c3d",
   "metadata": {},
   "outputs": [
    {
     "data": {
      "text/plain": [
       "[(5,)]"
      ]
     },
     "execution_count": 43,
     "metadata": {},
     "output_type": "execute_result"
    }
   ],
   "source": [
    "# 서초구의 CNO를 가져오는 SQL\n",
    "cur.execute(\"SELECT CNO FROM CITY WHERE NAME=?;\", ['서초구'])\n",
    "cur.fetchall()"
   ]
  },
  {
   "cell_type": "code",
   "execution_count": 44,
   "id": "9a6dbd8b-f16e-440a-95c7-72f2ee332a6e",
   "metadata": {},
   "outputs": [
    {
     "data": {
      "text/plain": [
       "<sqlite3.Cursor at 0xff448a1d0fc0>"
      ]
     },
     "execution_count": 44,
     "metadata": {},
     "output_type": "execute_result"
    }
   ],
   "source": [
    "# LIMIT 시작위치, 몇개\n",
    "cur.execute(\"SELECT CNO FROM CITY WHERE NAME LIKE ? ORDER BY NAME, CNO LIMIT 0, 1;\", ['%구'])"
   ]
  },
  {
   "cell_type": "code",
   "execution_count": 45,
   "id": "a8ee8e98-c74f-401f-a523-9810437e2eda",
   "metadata": {},
   "outputs": [
    {
     "data": {
      "text/plain": [
       "4"
      ]
     },
     "execution_count": 45,
     "metadata": {},
     "output_type": "execute_result"
    }
   ],
   "source": [
    "cno = cur.fetchone()[0]\n",
    "cno"
   ]
  },
  {
   "cell_type": "code",
   "execution_count": 46,
   "id": "b3085f70-c206-4d59-ad84-b62ff16d8d5d",
   "metadata": {},
   "outputs": [
    {
     "data": {
      "text/plain": [
       "<sqlite3.Cursor at 0xff448a1d0fc0>"
      ]
     },
     "execution_count": 46,
     "metadata": {},
     "output_type": "execute_result"
    }
   ],
   "source": [
    "# 데이터 삽입 (SUPPLIER 테이블)\n",
    "# SQL 프로시저를 많이 사용함\n",
    "cur.executemany('''\n",
    "    INSERT INTO SUPPLIER (NAME, CNO) VALUES (?, ?)\n",
    "''', [\n",
    "    ('1호점', cno),\n",
    "    ('2호점', cno),\n",
    "    ('3호점', cno)\n",
    "])"
   ]
  },
  {
   "cell_type": "code",
   "execution_count": 49,
   "id": "bdf35220-3445-4b53-985c-13143d59348f",
   "metadata": {},
   "outputs": [
    {
     "data": {
      "text/plain": [
       "<sqlite3.Cursor at 0xff448a1d0fc0>"
      ]
     },
     "execution_count": 49,
     "metadata": {},
     "output_type": "execute_result"
    }
   ],
   "source": [
    "cur.execute('''\n",
    "    INSERT INTO SUPPLIER (NAME, CNO) VALUES (?, (\n",
    "            SELECT CNO FROM CITY WHERE NAME LIKE ? \n",
    "            ORDER BY NAME, CNO \n",
    "            LIMIT 0, 1\n",
    "    ))\n",
    "''', ('1호점', '%서초구%'))"
   ]
  },
  {
   "cell_type": "code",
   "execution_count": 51,
   "id": "abee5587-e2a4-495b-a198-313819f56c5e",
   "metadata": {},
   "outputs": [
    {
     "data": {
      "text/plain": [
       "[(1, '1호점', 4), (2, '2호점', 4), (3, '3호점', 4), (4, '1호점', 5)]"
      ]
     },
     "execution_count": 51,
     "metadata": {},
     "output_type": "execute_result"
    }
   ],
   "source": [
    "cur.execute('select * from supplier;')\n",
    "cur.fetchall()"
   ]
  },
  {
   "cell_type": "code",
   "execution_count": 52,
   "id": "7a3cbd43-c81d-4194-bd45-f09f44f8134c",
   "metadata": {},
   "outputs": [],
   "source": [
    "cur.execute('select name from city where cno>2;')\n",
    "c = cur.fetchall()\n",
    "\n",
    "for name in c:\n",
    "    name = '%'+name[0]+'%'\n",
    "    params = [{'no':'1호점', 'name':name}, {'no':'2호점', 'name':name}, {'no':'3호점', 'name':name}]\n",
    "\n",
    "    cur.executemany('''\n",
    "        INSERT INTO SUPPLIER (NAME, CNO) VALUES (:no, (\n",
    "                SELECT CNO FROM CITY WHERE NAME LIKE :name\n",
    "                ORDER BY NAME, CNO \n",
    "                LIMIT 0, 1\n",
    "        ))\n",
    "    ''', params)"
   ]
  },
  {
   "cell_type": "code",
   "execution_count": 53,
   "id": "b0e2206a-baeb-484d-9288-ac5ac377b0a9",
   "metadata": {},
   "outputs": [
    {
     "data": {
      "text/plain": [
       "[(1, '1호점', 4),\n",
       " (2, '2호점', 4),\n",
       " (3, '3호점', 4),\n",
       " (4, '1호점', 5),\n",
       " (5, '1호점', 3),\n",
       " (6, '2호점', 3),\n",
       " (7, '3호점', 3),\n",
       " (8, '1호점', 4),\n",
       " (9, '2호점', 4),\n",
       " (10, '3호점', 4),\n",
       " (11, '1호점', 5),\n",
       " (12, '2호점', 5),\n",
       " (13, '3호점', 5),\n",
       " (14, '1호점', 6),\n",
       " (15, '2호점', 6),\n",
       " (16, '3호점', 6),\n",
       " (17, '1호점', 7),\n",
       " (18, '2호점', 7),\n",
       " (19, '3호점', 7),\n",
       " (20, '1호점', 8),\n",
       " (21, '2호점', 8),\n",
       " (22, '3호점', 8),\n",
       " (23, '1호점', 9),\n",
       " (24, '2호점', 9),\n",
       " (25, '3호점', 9),\n",
       " (26, '1호점', 10),\n",
       " (27, '2호점', 10),\n",
       " (28, '3호점', 10),\n",
       " (29, '1호점', 6),\n",
       " (30, '2호점', 6),\n",
       " (31, '3호점', 6),\n",
       " (32, '1호점', 7),\n",
       " (33, '2호점', 7),\n",
       " (34, '3호점', 7),\n",
       " (35, '1호점', 8),\n",
       " (36, '2호점', 8),\n",
       " (37, '3호점', 8),\n",
       " (38, '1호점', 9),\n",
       " (39, '2호점', 9),\n",
       " (40, '3호점', 9),\n",
       " (41, '1호점', 10),\n",
       " (42, '2호점', 10),\n",
       " (43, '3호점', 10)]"
      ]
     },
     "execution_count": 53,
     "metadata": {},
     "output_type": "execute_result"
    }
   ],
   "source": [
    "cur.execute('select * from supplier;')\n",
    "cur.fetchall()"
   ]
  },
  {
   "cell_type": "code",
   "execution_count": 54,
   "id": "9cb68078-49ab-4a53-88f3-d72b2c323226",
   "metadata": {},
   "outputs": [
    {
     "data": {
      "text/plain": [
       "3"
      ]
     },
     "execution_count": 54,
     "metadata": {},
     "output_type": "execute_result"
    }
   ],
   "source": [
    "cur.execute('select count(pno) from part')\n",
    "cur.fetchone()[0]"
   ]
  },
  {
   "cell_type": "code",
   "execution_count": 55,
   "id": "648356f4-6566-4302-a3bb-62f0e41983c9",
   "metadata": {},
   "outputs": [
    {
     "data": {
      "text/plain": [
       "<sqlite3.Cursor at 0xff448a1d0fc0>"
      ]
     },
     "execution_count": 55,
     "metadata": {},
     "output_type": "execute_result"
    }
   ],
   "source": [
    "cur.execute('''\n",
    "    create table sells(\n",
    "        sno integer not null,\n",
    "        pno integer not null,\n",
    "        price integer not null default 0\n",
    "    )\n",
    "''')"
   ]
  },
  {
   "cell_type": "code",
   "execution_count": 56,
   "id": "6daff79c-517a-4751-bda3-6a4d66e2f59d",
   "metadata": {},
   "outputs": [
    {
     "data": {
      "text/plain": [
       "<sqlite3.Cursor at 0xff448a1d0fc0>"
      ]
     },
     "execution_count": 56,
     "metadata": {},
     "output_type": "execute_result"
    }
   ],
   "source": [
    "cur.executemany('insert into sells values (?, ?, ?)',\n",
    "[(1,1,10),\n",
    "(2,1,10),\n",
    "(3,1,10),\n",
    "(5,1,10),\n",
    "(7,1,10),\n",
    "(9,1,10),\n",
    "(11,1,10),\n",
    "(1,2,15),\n",
    "(4,2,15),\n",
    "(6,2,15),\n",
    "(8,2,15),\n",
    "(10,2,15),\n",
    "(12,2,15),\n",
    "(14,2,15),\n",
    "(1,3,8),\n",
    "(18,3,8),\n",
    "(19,3,8),\n",
    "(22,4,8),\n",
    "(1,4,20),\n",
    "(2,4,20),\n",
    "(3,4,20)])"
   ]
  },
  {
   "cell_type": "code",
   "execution_count": 57,
   "id": "90d6ecb0-c5a8-4a1e-a22e-250098ab5cfa",
   "metadata": {},
   "outputs": [
    {
     "data": {
      "text/plain": [
       "[('중구',),\n",
       " ('중랑구',),\n",
       " ('노원구',),\n",
       " ('강남구',),\n",
       " ('서초구',),\n",
       " ('Seoul',),\n",
       " ('New York',),\n",
       " ('London',),\n",
       " ('Paris',),\n",
       " ('Tokyo',),\n",
       " ('Seoul',),\n",
       " ('New York',),\n",
       " ('London',),\n",
       " ('Paris',),\n",
       " ('Tokyo',)]"
      ]
     },
     "execution_count": 57,
     "metadata": {},
     "output_type": "execute_result"
    }
   ],
   "source": [
    "cur.execute('select name from city')\n",
    "cur.fetchall()"
   ]
  },
  {
   "cell_type": "code",
   "execution_count": 58,
   "id": "f0d23615-2c21-4ce2-b6c7-ce87138d1f78",
   "metadata": {},
   "outputs": [
    {
     "data": {
      "text/plain": [
       "<sqlite3.Cursor at 0xff448a1d0fc0>"
      ]
     },
     "execution_count": 58,
     "metadata": {},
     "output_type": "execute_result"
    }
   ],
   "source": [
    "cur.execute('insert into city (name) values (\"광진구\");')"
   ]
  },
  {
   "cell_type": "markdown",
   "id": "f3176113-94a3-4d3a-b044-bb096763747e",
   "metadata": {},
   "source": [
    "### SQL JOIN\n",
    "\n",
    "`JOIN`은 두 개 이상의 테이블을 결합하여 하나의 결과 집합을 생성하는 SQL 명령어입니다. 일반적으로 관계형 데이터베이스에서는 여러 테이블 간의 관계를 설정하고, 이를 바탕으로 데이터를 결합하여 원하는 결과를 추출합니다.\n",
    "\n",
    "#### JOIN의 종류\n",
    "\n",
    "1. **INNER JOIN**\n",
    "   - `INNER JOIN`은 두 테이블에서 일치하는 행만 반환합니다. 두 테이블의 공통된 컬럼 값이 일치하는 경우에만 데이터를 가져옵니다.\n",
    "   \n",
    "   **사용 예시**:\n",
    "   ```sql\n",
    "   SELECT employees.name, departments.name\n",
    "   FROM employees\n",
    "   INNER JOIN departments ON employees.department_id = departments.id;\n",
    "   ```\n",
    "   - 위 쿼리는 `employees` 테이블과 `departments` 테이블에서 `department_id`와 `id`가 일치하는 행만 결합하여 직원 이름과 부서 이름을 반환합니다.\n",
    "\n",
    "2. **LEFT JOIN (또는 LEFT OUTER JOIN)**\n",
    "   - `LEFT JOIN`은 왼쪽 테이블의 모든 행과, 오른쪽 테이블에서 일치하는 행을 결합합니다. 오른쪽 테이블에서 일치하는 값이 없으면, 해당 열은 `NULL`로 채워집니다.\n",
    "   \n",
    "   **사용 예시**:\n",
    "   ```sql\n",
    "   SELECT employees.name, departments.name\n",
    "   FROM employees\n",
    "   LEFT JOIN departments ON employees.department_id = departments.id;\n",
    "   ```\n",
    "   - 위 쿼리는 `employees` 테이블의 모든 직원과, 일치하는 부서가 있다면 그 부서 이름도 반환합니다. 부서가 없는 직원의 경우, 부서 이름은 `NULL`로 표시됩니다.\n",
    "\n",
    "3. **RIGHT JOIN (또는 RIGHT OUTER JOIN)**\n",
    "   - `RIGHT JOIN`은 오른쪽 테이블의 모든 행과, 왼쪽 테이블에서 일치하는 행을 결합합니다. 왼쪽 테이블에서 일치하는 값이 없으면, 해당 열은 `NULL`로 채워집니다.\n",
    "   \n",
    "   **사용 예시**:\n",
    "   ```sql\n",
    "   SELECT employees.name, departments.name\n",
    "   FROM employees\n",
    "   RIGHT JOIN departments ON employees.department_id = departments.id;\n",
    "   ```\n",
    "   - 위 쿼리는 `departments` 테이블의 모든 부서와, 일치하는 직원이 있으면 그 직원 이름도 반환합니다. 직원이 없는 부서의 경우, 직원 이름은 `NULL`로 표시됩니다.\n",
    "\n",
    "4. **FULL JOIN (또는 FULL OUTER JOIN)**\n",
    "   - `FULL JOIN`은 양쪽 테이블의 모든 행을 결합합니다. 일치하는 행이 없다면, 결합되지 않은 테이블의 열은 `NULL`로 채워집니다.\n",
    "   \n",
    "   **사용 예시**:\n",
    "   ```sql\n",
    "   SELECT employees.name, departments.name\n",
    "   FROM employees\n",
    "   FULL JOIN departments ON employees.department_id = departments.id;\n",
    "   ```\n",
    "   - 위 쿼리는 `employees` 테이블과 `departments` 테이블의 모든 행을 반환합니다. 일치하는 데이터가 없으면, 해당 컬럼에 `NULL`이 표시됩니다.\n",
    "\n",
    "5. **CROSS JOIN**\n",
    "   - `CROSS JOIN`은 두 테이블의 모든 조합을 반환합니다. 즉, 첫 번째 테이블의 각 행이 두 번째 테이블의 모든 행과 결합됩니다. 이 경우 결과의 행 수는 두 테이블의 행 수의 곱이 됩니다.\n",
    "   \n",
    "   **사용 예시**:\n",
    "   ```sql\n",
    "   SELECT employees.name, departments.name\n",
    "   FROM employees\n",
    "   CROSS JOIN departments;\n",
    "   ```\n",
    "   - 위 쿼리는 `employees` 테이블과 `departments` 테이블의 모든 가능한 조합을 반환합니다. 즉, 모든 직원과 모든 부서가 결합된 결과를 출력합니다."
   ]
  },
  {
   "cell_type": "code",
   "execution_count": 59,
   "id": "0e9e5d11-de8c-49b4-b732-77f06273f930",
   "metadata": {},
   "outputs": [
    {
     "name": "stdout",
     "output_type": "stream",
     "text": [
      "43\n",
      "51\n"
     ]
    }
   ],
   "source": [
    "cur.execute('''\n",
    "    select city.name, supplier.name from city\n",
    "    inner join supplier\n",
    "    on city.cno=supplier.cno\n",
    "''')\n",
    "print(len(cur.fetchall()))\n",
    "\n",
    "cur.execute('''\n",
    "    select city.name, supplier.name from city\n",
    "    left join supplier\n",
    "    on city.cno=supplier.cno\n",
    "''')\n",
    "print(len(cur.fetchall()))"
   ]
  },
  {
   "cell_type": "code",
   "execution_count": 60,
   "id": "acc373ba-d696-473c-9e98-9927c68bb780",
   "metadata": {},
   "outputs": [
    {
     "data": {
      "text/plain": [
       "[('London', 6),\n",
       " ('London', 0),\n",
       " ('New York', 6),\n",
       " ('New York', 0),\n",
       " ('Paris', 6),\n",
       " ('Paris', 0),\n",
       " ('Seoul', 6),\n",
       " ('Seoul', 0),\n",
       " ('Tokyo', 6),\n",
       " ('Tokyo', 0),\n",
       " ('강남구', 6),\n",
       " ('광진구', 0),\n",
       " ('노원구', 3),\n",
       " ('서초구', 4),\n",
       " ('중구', 0),\n",
       " ('중랑구', 0)]"
      ]
     },
     "execution_count": 60,
     "metadata": {},
     "output_type": "execute_result"
    }
   ],
   "source": [
    "cur.execute('''\n",
    "    select city.name, count(supplier.name) from city\n",
    "    left join supplier\n",
    "    on city.cno=supplier.cno\n",
    "    group by city.cno\n",
    "    order by city.name asc\n",
    "''')\n",
    "\n",
    "cur.fetchall()"
   ]
  },
  {
   "cell_type": "code",
   "execution_count": 61,
   "id": "ee098bda-a0ed-4396-8f8d-c94e276e720d",
   "metadata": {},
   "outputs": [
    {
     "data": {
      "text/plain": [
       "[('노원구', '1호점', '아메리카노', 1, 10),\n",
       " ('노원구', '2호점', '카페라테', 1, 15),\n",
       " ('노원구', '3호점', '아메리카노', 1, 10),\n",
       " ('강남구', '1호점', '아메리카노', 4, 48),\n",
       " ('강남구', '2호점', '아메리카노', 2, 20),\n",
       " ('강남구', '3호점', '아메리카노', 2, 25),\n",
       " ('서초구', '1호점', '아메리카노', 2, 25),\n",
       " ('서초구', '2호점', '카페라테', 1, 15),\n",
       " ('Seoul', '1호점', '카페라테', 1, 15),\n",
       " ('New York', '2호점', '에스프레소', 1, 8),\n",
       " ('New York', '3호점', '에스프레소', 1, 8)]"
      ]
     },
     "execution_count": 61,
     "metadata": {},
     "output_type": "execute_result"
    }
   ],
   "source": [
    "cur.execute('''\n",
    "    select city.name, supplier.name, part.name, count(part.name), sum(sells.price) from city\n",
    "    left join supplier\n",
    "    on city.cno = supplier.cno\n",
    "    inner join sells\n",
    "    on supplier.sno=sells.sno\n",
    "    inner join part\n",
    "    on part.pno=sells.pno\n",
    "    group by city.name, supplier.name\n",
    "    order by city.cno asc\n",
    "''')\n",
    "\n",
    "cur.fetchall()"
   ]
  },
  {
   "cell_type": "code",
   "execution_count": null,
   "id": "cfcc4f2f-994f-47d0-a3b8-0b14f629c525",
   "metadata": {},
   "outputs": [],
   "source": []
  }
 ],
 "metadata": {
  "kernelspec": {
   "display_name": "Python 3 (ipykernel)",
   "language": "python",
   "name": "python3"
  },
  "language_info": {
   "codemirror_mode": {
    "name": "ipython",
    "version": 3
   },
   "file_extension": ".py",
   "mimetype": "text/x-python",
   "name": "python",
   "nbconvert_exporter": "python",
   "pygments_lexer": "ipython3",
   "version": "3.12.3"
  }
 },
 "nbformat": 4,
 "nbformat_minor": 5
}
