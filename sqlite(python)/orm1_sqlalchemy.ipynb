{
 "cells": [
  {
   "cell_type": "markdown",
   "id": "d6275f0b-e7b8-430d-9f4b-e7d82b7c3d65",
   "metadata": {},
   "source": [
    "# ORM과 SQLAlchemy 개요\n",
    "\n",
    "## ORM (Object-Relational Mapping)란?\n",
    "\n",
    "ORM은 **객체 지향 프로그래밍**과 **관계형 데이터베이스** 간의 데이터를 연결해주는 기술입니다. 객체와 테이블을 매핑하여 SQL 쿼리를 직접 작성하지 않고도 데이터베이스 작업을 수행할 수 있습니다.\n",
    "\n",
    "### 주요 개념\n",
    "1. **객체 지향 프로그래밍 (OOP)**  \n",
    "   - 데이터를 **클래스**와 **객체**로 모델링 (예: `User` 클래스에 `name`, `age` 속성).\n",
    "2. **관계형 데이터베이스**  \n",
    "   - 데이터를 **테이블**에 저장 (예: `users` 테이블에 `name`, `age` 컬럼).\n",
    "\n",
    "### ORM의 역할\n",
    "- **객체-테이블 매핑**: 객체와 데이터베이스 테이블을 연결.\n",
    "- **SQL 추상화**: SQL 쿼리를 자동 생성하여 데이터베이스 접근.\n",
    "- **CRUD 자동화**: 생성(Create), 조회(Read), 업데이트(Update), 삭제(Delete)를 객체 기반으로 처리.\n",
    "\n",
    "### 장점\n",
    "- **SQL 작성 불필요**: SQL 없이 데이터베이스 작업 가능.\n",
    "- **객체 지향적**: 코드가 직관적이고 유지보수 용이.\n",
    "- **데이터베이스 독립성**: MySQL, PostgreSQL, SQLite 등 다양한 DB 지원.\n",
    "\n",
    "---\n",
    "\n",
    "## SQLAlchemy란?\n",
    "\n",
    "SQLAlchemy는 Python에서 사용되는 강력한 **ORM 라이브러리**로, 관계형 데이터베이스와 Python 객체를 연결하여 SQL 없이 데이터 작업을 가능하게 합니다.\n",
    "\n",
    "### 주요 기능\n",
    "1. **객체-관계 매핑 (ORM)**  \n",
    "   - 테이블과 Python 클래스를 연결.\n",
    "2. **SQL 표현식 언어**  \n",
    "   - 복잡한 SQL 쿼리 작성 지원.\n",
    "3. **데이터베이스 연결 관리**  \n",
    "   - 다양한 DB 연결 및 트랜잭션 지원.\n",
    "\n",
    "### 기본 사용법\n",
    "1. **설치**  \n",
    "   ```bash\n",
    "   pip install sqlalchemy\n",
    "   ```\n",
    "2. **모델 정의 및 DB 연결**  \n",
    "   - `Base` 상속으로 테이블 정의 후 엔진 생성.\n",
    "3. **세션 생성 및 CRUD**  \n",
    "   - 세션으로 데이터 추가, 조회 등 수행.\n",
    "\n",
    "### 장점\n",
    "- **자동 SQL 생성**: SQL 작성 필요 없음.\n",
    "- **데이터베이스 독립성**: 여러 DB에서 동일 코드 사용 가능.\n",
    "- **복잡한 관계 처리**: 다대다, 일대다 관계 모델링 지원."
   ]
  },
  {
   "cell_type": "markdown",
   "id": "f6f18c1f-c2b1-41b5-aab8-1d6e42a19d31",
   "metadata": {},
   "source": [
    "### **SQLAlchemy ORM의 작동 구조 (정리)**\n",
    "\n",
    "1. **데이터베이스 연결 및 세션 설정**\n",
    "   - `create_engine`, `sessionmaker`를 사용하여 데이터베이스와 연결하고, 세션을 관리하는 객체를 생성합니다. 세션은 데이터베이스 작업을 추상화하고 관리하는 역할을 합니다.\n",
    "\n",
    "2. **모델 클래스 정의**\n",
    "   - `Base` 클래스를 상속받아, `Column`을 사용해 각 테이블의 구조를 정의합니다. 이 클래스는 데이터베이스 테이블과 1:1로 매핑됩니다.\n",
    "\n",
    "3. **테이블 생성**\n",
    "   - `Base.metadata.create_all()`을 사용하여 모델 클래스에 정의된 테이블을 데이터베이스에 생성합니다. 테이블이 이미 존재하면 변경되지 않습니다.\n",
    "\n",
    "4. **세션을 통해 객체와 상호작용**\n",
    "   - 세션을 통해 객체를 데이터베이스에 추가하거나 조회합니다. `session.add()`로 객체를 세션에 추가하고, `session.commit()`으로 데이터베이스에 반영합니다. `session.query()`를 사용해 데이터를 조회합니다.\n",
    "\n",
    "5. **데이터 조회, 수정, 삭제**\n",
    "   - `session.query()`로 데이터를 조회하고, 객체 속성을 수정한 뒤 `session.commit()`으로 업데이트합니다. 객체를 삭제할 때는 `session.delete()`를 사용하여 삭제합니다."
   ]
  },
  {
   "cell_type": "code",
   "execution_count": 29,
   "id": "502f50a4-84b8-4837-bd9c-feff02a8930d",
   "metadata": {},
   "outputs": [],
   "source": [
    "from sqlalchemy.orm import declarative_base, sessionmaker\n",
    "from sqlalchemy.types import Integer, Text\n",
    "from sqlalchemy.schema import ForeignKey, Column\n",
    "from sqlalchemy.engine import create_engine"
   ]
  },
  {
   "cell_type": "code",
   "execution_count": 30,
   "id": "1d644d0b-d17d-447f-b2a3-0fdc88505c4f",
   "metadata": {},
   "outputs": [],
   "source": [
    "base = declarative_base()"
   ]
  },
  {
   "cell_type": "code",
   "execution_count": 31,
   "id": "60cede97-b339-42b3-8a7b-d5070ce0c61e",
   "metadata": {},
   "outputs": [
    {
     "data": {
      "text/plain": [
       "FacadeDict({})"
      ]
     },
     "execution_count": 31,
     "metadata": {},
     "output_type": "execute_result"
    }
   ],
   "source": [
    "base.metadata.tables"
   ]
  },
  {
   "cell_type": "code",
   "execution_count": 32,
   "id": "daf60d72-237a-4b3b-b4b9-fc2109b25008",
   "metadata": {},
   "outputs": [],
   "source": [
    "# 1. 데이터베이스 연결 및 세션 설정\n",
    "engine = create_engine('sqlite:///:memory:', echo=True)\n",
    "# Instance <--> 물리적 DB\n",
    "session = sessionmaker()\n",
    "sess = session()\n",
    "sess.bind = engine"
   ]
  },
  {
   "cell_type": "code",
   "execution_count": 33,
   "id": "0a3793aa-9424-42fd-8572-7a01d87a5b23",
   "metadata": {},
   "outputs": [],
   "source": [
    "# 2. 모델 클래스 정의\n",
    "class User(base):\n",
    "    __tablename__ = 'USER'\n",
    "    __table_args__ = {'extend_existing': True}\n",
    "    pk = Column('PK', Integer, primary_key=True)\n",
    "    name = Column('Name', Text, nullable=False)"
   ]
  },
  {
   "cell_type": "code",
   "execution_count": 34,
   "id": "560feb28-b1b2-4bd8-a978-0d0ac00758e7",
   "metadata": {},
   "outputs": [
    {
     "name": "stdout",
     "output_type": "stream",
     "text": [
      "2025-03-07 22:49:12,871 INFO sqlalchemy.engine.Engine BEGIN (implicit)\n",
      "2025-03-07 22:49:12,872 INFO sqlalchemy.engine.Engine PRAGMA main.table_info(\"USER\")\n",
      "2025-03-07 22:49:12,872 INFO sqlalchemy.engine.Engine [raw sql] ()\n",
      "2025-03-07 22:49:12,873 INFO sqlalchemy.engine.Engine PRAGMA temp.table_info(\"USER\")\n",
      "2025-03-07 22:49:12,874 INFO sqlalchemy.engine.Engine [raw sql] ()\n",
      "2025-03-07 22:49:12,875 INFO sqlalchemy.engine.Engine \n",
      "CREATE TABLE \"USER\" (\n",
      "\t\"PK\" INTEGER NOT NULL, \n",
      "\t\"Name\" TEXT NOT NULL, \n",
      "\tPRIMARY KEY (\"PK\")\n",
      ")\n",
      "\n",
      "\n",
      "2025-03-07 22:49:12,875 INFO sqlalchemy.engine.Engine [no key 0.00041s] ()\n",
      "2025-03-07 22:49:12,876 INFO sqlalchemy.engine.Engine COMMIT\n"
     ]
    }
   ],
   "source": [
    "# 3.테이블 생성\n",
    "# 연결작업, Class(Base) 등록 -> MetaData(Table객체 등록) -> engine.dialect Table 객체로 변환\n",
    "base.metadata.create_all(engine)"
   ]
  },
  {
   "cell_type": "markdown",
   "id": "127ef50e-15ea-447e-9b13-413e89620637",
   "metadata": {},
   "source": [
    "### SQLAlchemy 세션을 통한 객체와 상호작용\n",
    "\n",
    "SQLAlchemy에서 **Session**은 데이터베이스와의 상호작용(추가, 조회, 수정, 삭제)을 담당하는 핵심 객체입니다.\n",
    "**커밋이전에는 DB에 반영안됨**\n",
    "\n",
    "---\n",
    "\n",
    "#### 1. 객체 추가 (Create)\n",
    "\n",
    "새로운 객체를 생성한 후, 세션에 추가하고 `commit()`을 호출하여 데이터베이스에 반영합니다.\n",
    "\n",
    "```python\n",
    "# 예시: User 객체 추가\n",
    "new_user = User(name='John Doe', age=30)\n",
    "session.add(new_user)\n",
    "session.commit()\n",
    "```\n",
    "\n",
    "---\n",
    "\n",
    "#### 2. 객체 조회 (Read)\n",
    "\n",
    "세션을 통해 객체를 조회할 수 있습니다. `query()` 메서드를 사용하여 원하는 데이터를 가져옵니다.\n",
    "\n",
    "```python\n",
    "# 모든 User 객체 조회\n",
    "users = session.query(User).all()\n",
    "for user in users:\n",
    "    print(user.name, user.age)\n",
    "\n",
    "# 특정 조건으로 조회\n",
    "user = session.query(User).filter_by(name='John Doe').first()\n",
    "print(user.name, user.age)\n",
    "```\n",
    "\n",
    "---\n",
    "\n",
    "#### 3. 객체 수정 (Update)\n",
    "\n",
    "조회한 객체의 속성을 변경한 후, `commit()`을 호출하여 수정 사항을 데이터베이스에 반영합니다.\n",
    "\n",
    "```python\n",
    "# 'John Doe'의 나이를 수정하는 예시\n",
    "user = session.query(User).filter_by(name='John Doe').first()\n",
    "user.age = 31\n",
    "session.commit()\n",
    "```\n",
    "\n",
    "---\n",
    "\n",
    "#### 4. 객체 삭제 (Delete)\n",
    "\n",
    "세션의 `delete()` 메서드를 사용해 객체를 삭제한 후, `commit()`으로 변경 사항을 저장합니다.\n",
    "\n",
    "```python\n",
    "# 'John Doe' 객체 삭제\n",
    "user = session.query(User).filter_by(name='John Doe').first()\n",
    "session.delete(user)\n",
    "session.commit()\n",
    "```"
   ]
  },
  {
   "cell_type": "code",
   "execution_count": 35,
   "id": "e77e5e68-f4b4-4562-8eb0-7ad9714c591a",
   "metadata": {},
   "outputs": [
    {
     "name": "stdout",
     "output_type": "stream",
     "text": [
      "2025-03-07 22:53:17,344 INFO sqlalchemy.engine.Engine BEGIN (implicit)\n",
      "2025-03-07 22:53:17,351 INFO sqlalchemy.engine.Engine INSERT INTO \"USER\" (\"Name\") VALUES (?)\n",
      "2025-03-07 22:53:17,352 INFO sqlalchemy.engine.Engine [generated in 0.00095s] ('사람1',)\n",
      "2025-03-07 22:53:17,353 INFO sqlalchemy.engine.Engine COMMIT\n"
     ]
    }
   ],
   "source": [
    "# insert\n",
    "user1 = User(name='사람1')\n",
    "sess.add(user1)\n",
    "sess.commit()"
   ]
  },
  {
   "cell_type": "code",
   "execution_count": 44,
   "id": "925173cb-4932-4853-a2b7-592775676c4d",
   "metadata": {},
   "outputs": [
    {
     "data": {
      "text/plain": [
       "(IdentitySet([]), False)"
      ]
     },
     "execution_count": 44,
     "metadata": {},
     "output_type": "execute_result"
    }
   ],
   "source": [
    "# dirty: session이 db에 기록/수정 차이점 -> 커밋을 해야 반영!\n",
    "# is_modified: session이 관리중인 객체가 변화가 있는지\n",
    "sess.dirty, sess.is_modified(user1)"
   ]
  },
  {
   "cell_type": "markdown",
   "id": "a52bfaae-d740-4e22-ba1d-60070c160ee5",
   "metadata": {},
   "source": [
    "### **1. `filter()`**\n",
    "- **동작**: **조건에 맞는 행**만 반환합니다. `filter()`는 **WHERE** 절에 해당하는 역할을 합니다.\n",
    "- **예시**:\n",
    "  ```python\n",
    "  users = sess.query(User).filter(User.name == \"Alice\").all()\n",
    "  ```\n",
    "\n",
    "### **2. `filter_by()`**\n",
    "- **동작**: `filter()`와 비슷하지만, **키워드 인자**를 사용하여 **조건을 명시**합니다.\n",
    "- **예시**:\n",
    "  ```python\n",
    "  users = sess.query(User).filter_by(name=\"Alice\").all()\n",
    "  ```"
   ]
  },
  {
   "cell_type": "code",
   "execution_count": 47,
   "id": "e50df37a-7b48-44de-a8c6-c0ffbb8b1dfd",
   "metadata": {},
   "outputs": [
    {
     "name": "stdout",
     "output_type": "stream",
     "text": [
      "2025-03-07 23:06:18,484 INFO sqlalchemy.engine.Engine SELECT \"USER\".\"PK\" AS \"USER_PK\", \"USER\".\"Name\" AS \"USER_Name\" \n",
      "FROM \"USER\"\n",
      "2025-03-07 23:06:18,485 INFO sqlalchemy.engine.Engine [cached since 518.2s ago] ()\n"
     ]
    },
    {
     "data": {
      "text/plain": [
       "'사람1'"
      ]
     },
     "execution_count": 47,
     "metadata": {},
     "output_type": "execute_result"
    }
   ],
   "source": [
    "# 조회하기\n",
    "# all(): 모든 행을 리스트 형태로 반환\n",
    "# first(): 첫 번째 행을 반환 -> 없으면 None\n",
    "# one(): 하나의 행만 반환 -> 없어도, 여러개 있어도 예외 발생\n",
    "# one_or_none(): 하나의 행만 반환, 없으면 None -> 여러개 있다면 예외 발생\n",
    "users = sess.query(User).one()\n",
    "users.name"
   ]
  },
  {
   "cell_type": "code",
   "execution_count": 49,
   "id": "5a1254c0-c573-47ba-84be-463a1d972a45",
   "metadata": {},
   "outputs": [
    {
     "data": {
      "text/plain": [
       "IdentitySet([<__main__.User object at 0xff1924ed2f90>])"
      ]
     },
     "execution_count": 49,
     "metadata": {},
     "output_type": "execute_result"
    }
   ],
   "source": [
    "# 업데이트\n",
    "users.name = '사람2'\n",
    "sess.dirty \n",
    "# -> 값 변화"
   ]
  },
  {
   "cell_type": "code",
   "execution_count": 50,
   "id": "13a700e3-8fb2-4444-9d04-970a72e99340",
   "metadata": {},
   "outputs": [
    {
     "name": "stdout",
     "output_type": "stream",
     "text": [
      "2025-03-07 23:07:19,049 INFO sqlalchemy.engine.Engine UPDATE \"USER\" SET \"Name\"=? WHERE \"USER\".\"PK\" = ?\n",
      "2025-03-07 23:07:19,051 INFO sqlalchemy.engine.Engine [generated in 0.00197s] ('사람2', 1)\n",
      "2025-03-07 23:07:19,052 INFO sqlalchemy.engine.Engine COMMIT\n"
     ]
    }
   ],
   "source": [
    "sess.commit()"
   ]
  },
  {
   "cell_type": "code",
   "execution_count": 52,
   "id": "68fb13ee-121b-4a63-bb9e-5ea15f497d27",
   "metadata": {},
   "outputs": [
    {
     "name": "stdout",
     "output_type": "stream",
     "text": [
      "2025-03-07 23:07:56,809 INFO sqlalchemy.engine.Engine BEGIN (implicit)\n",
      "2025-03-07 23:07:56,812 INFO sqlalchemy.engine.Engine SELECT \"USER\".\"PK\" AS \"USER_PK\", \"USER\".\"Name\" AS \"USER_Name\" \n",
      "FROM \"USER\" \n",
      "WHERE \"USER\".\"PK\" = ?\n",
      "2025-03-07 23:07:56,813 INFO sqlalchemy.engine.Engine [generated in 0.00093s] (1,)\n",
      "2025-03-07 23:07:56,815 INFO sqlalchemy.engine.Engine DELETE FROM \"USER\" WHERE \"USER\".\"PK\" = ?\n",
      "2025-03-07 23:07:56,816 INFO sqlalchemy.engine.Engine [generated in 0.00081s] (1,)\n",
      "2025-03-07 23:07:56,816 INFO sqlalchemy.engine.Engine COMMIT\n"
     ]
    }
   ],
   "source": [
    "# 삭제\n",
    "sess.delete(users)\n",
    "sess.commit()"
   ]
  },
  {
   "cell_type": "code",
   "execution_count": 54,
   "id": "4af8c7b0-601e-49c7-b6b4-8481291a28a1",
   "metadata": {},
   "outputs": [],
   "source": [
    "# 세션 종료 및 정리\n",
    "sess.close()\n",
    "base.registry.dispose()\n",
    "base.metadata.clear()"
   ]
  }
 ],
 "metadata": {
  "kernelspec": {
   "display_name": "Python 3 (ipykernel)",
   "language": "python",
   "name": "python3"
  },
  "language_info": {
   "codemirror_mode": {
    "name": "ipython",
    "version": 3
   },
   "file_extension": ".py",
   "mimetype": "text/x-python",
   "name": "python",
   "nbconvert_exporter": "python",
   "pygments_lexer": "ipython3",
   "version": "3.12.3"
  }
 },
 "nbformat": 4,
 "nbformat_minor": 5
}
